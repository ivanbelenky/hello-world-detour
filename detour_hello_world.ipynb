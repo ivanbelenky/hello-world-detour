{
 "cells": [
  {
   "cell_type": "markdown",
   "metadata": {},
   "source": [
    "# The good old battle horse "
   ]
  },
  {
   "cell_type": "code",
   "execution_count": 1,
   "metadata": {},
   "outputs": [
    {
     "name": "stdout",
     "output_type": "stream",
     "text": [
      "Hello World!\n"
     ]
    }
   ],
   "source": [
    "print(\"Hello World!\")"
   ]
  },
  {
   "cell_type": "markdown",
   "metadata": {},
   "source": [
    "## But this is too easy. Detour please.\n",
    "\n",
    "Firs let's scramble those letters"
   ]
  },
  {
   "cell_type": "code",
   "execution_count": 2,
   "metadata": {},
   "outputs": [
    {
     "data": {
      "text/plain": [
       "['o', 'W', 'o', 'l', 'l', ' ', 'r', 'H', 'e', 'l', 'd']"
      ]
     },
     "execution_count": 2,
     "metadata": {},
     "output_type": "execute_result"
    }
   ],
   "source": [
    "import numpy as np\n",
    "\n",
    "def scramble(lstr):\n",
    "    np.random.shuffle(lstr)\n",
    "\n",
    "hw = \"Hello World\"\n",
    "hw = np.array(list(hw))\n",
    "scramble(hw)\n",
    "hw = list(hw)\n",
    "hw"
   ]
  },
  {
   "cell_type": "markdown",
   "metadata": {},
   "source": [
    "## Define some boilerplate classes, just for fun?"
   ]
  },
  {
   "cell_type": "code",
   "execution_count": 3,
   "metadata": {},
   "outputs": [],
   "source": [
    "\n",
    "rem = [';','(',')',',',':','.','?','!','=','¿','\\'',' ','[',']']\n",
    "\n",
    "class Sentence(object):\n",
    "    def __init__(self,sentence):\n",
    "        self.sentence = sentence\n",
    "        self.lst_sentence = list(self.sentence)\n",
    "        self.spaces = self.lst_sentence.count(' ') \n",
    "        self.stripped = [letter.lower() for letter in self.lst_sentence if letter not in rem]\n",
    "        self.occr = let_occr(self.stripped)\n",
    "        \n",
    "    \n",
    "    @classmethod\n",
    "    def from_occr(cls,occr):\n",
    "        sentence = []\n",
    "        for key in occr.keys():\n",
    "            for i in range(occr[key]):\n",
    "                sentence.append(key)\n",
    "        \n",
    "        return cls(\"\".join(sentence))\n",
    "            \n",
    "            \n",
    "    \n",
    "    @property\n",
    "    def sentence(self):\n",
    "        return self._sentence\n",
    "    \n",
    "    @sentence.setter\n",
    "    def sentence(self,sentence):\n",
    "        if not isinstance(sentence, str):\n",
    "            raise ValueError(\"sentence must be string\")\n",
    "        else:\n",
    "            self._sentence = sentence\n",
    "\n",
    "            \n",
    "class Word(object):\n",
    "    def __init__(self,word):\n",
    "        self.word = word\n",
    "        self.occr = let_occr(list(self.word))\n",
    "        \n",
    "        \n",
    "    def is_in_sentence(self,sent):\n",
    "        if set(self.occr.keys()).issubset(set(sent.occr.keys())):\n",
    "            for key in self.occr.keys():\n",
    "                if self.occr[key] > sent.occr[key]:\n",
    "                    return False\n",
    "            return True\n",
    "        else:\n",
    "            return False\n",
    "\n",
    "            \n",
    "        \n",
    "def let_occr(lst):\n",
    "    occr = dict()\n",
    "    for item in lst:\n",
    "        occr[item] = 0\n",
    "    for item in lst:\n",
    "        occr[item] += 1\n",
    "    return occr"
   ]
  },
  {
   "cell_type": "markdown",
   "metadata": {},
   "source": [
    "## now"
   ]
  },
  {
   "cell_type": "code",
   "execution_count": 4,
   "metadata": {},
   "outputs": [],
   "source": [
    "hw = Sentence(\"\".join(hw)) \n"
   ]
  },
  {
   "cell_type": "markdown",
   "metadata": {},
   "source": [
    "## you will need a file with a wordlist "
   ]
  },
  {
   "cell_type": "code",
   "execution_count": 5,
   "metadata": {},
   "outputs": [],
   "source": [
    "fp = 'wordlist.txt' #filepath\n",
    "with open(fp) as file:\n",
    "    words = [Word(word.strip('\\n')) for word in file]"
   ]
  },
  {
   "cell_type": "markdown",
   "metadata": {},
   "source": [
    "## filter out the first candidates"
   ]
  },
  {
   "cell_type": "code",
   "execution_count": 6,
   "metadata": {},
   "outputs": [
    {
     "name": "stdout",
     "output_type": "stream",
     "text": [
      "he\n",
      "do\n",
      "we\n",
      "or\n",
      "who\n",
      "her\n",
      "how\n",
      "well\n",
      "her\n",
      "world\n",
      "old\n",
      "hold\n",
      "word\n",
      "door\n",
      "low\n",
      "oh\n",
      "role\n",
      "whole\n",
      "red\n",
      "well\n",
      "hole\n",
      "wood\n",
      "roll\n",
      "hell\n",
      "row\n",
      "hero\n",
      "lower\n",
      "whole\n",
      "hello\n",
      "roll\n",
      "hold\n",
      "owe\n",
      "re\n",
      "doll\n",
      "rod\n",
      "low\n"
     ]
    }
   ],
   "source": [
    "candidates = [word for word in words if word.is_in_sentence(hw)]\n",
    "for c in candidates:\n",
    "    print(c.word)\n"
   ]
  },
  {
   "cell_type": "markdown",
   "metadata": {},
   "source": [
    "## Second filter"
   ]
  },
  {
   "cell_type": "code",
   "execution_count": 7,
   "metadata": {},
   "outputs": [],
   "source": [
    "import gc\n",
    "import copy \n",
    "\n",
    "def is_in(occr1,occr2):\n",
    "    if set(occr1.keys()).issubset(set(occr2.keys())):\n",
    "        for key in occr1.keys():\n",
    "            if occr1[key] > occr2[key]:\n",
    "                return False\n",
    "        return True\n",
    "    else:\n",
    "        return False\n",
    "\n",
    "class Node:\n",
    "    def __init__(self, occr, cand, w_lst = None):\n",
    "        self.childs = []\n",
    "        self.occr = occr\n",
    "        self.cand = cand\n",
    "        self.words = w_lst if w_lst else []\n",
    "        \n",
    "    def build(self):\n",
    "        for word in self.cand:\n",
    "            if is_in(word.occr, self.occr):\n",
    "                w_lst = self.words + [ word.word ]\n",
    "                tmp_occr = {}\n",
    "                for key in self.occr.keys():\n",
    "                    tmp_occr[key] = self.occr[key]\n",
    "\n",
    "                for key in word.occr.keys():\n",
    "                    tmp_occr[key] -= word.occr[key]\n",
    "                  \n",
    "                self.childs.append(Node(tmp_occr,self.cand, w_lst))\n",
    "\n",
    "        for child in self.childs:\n",
    "            child.build()\n",
    "    \n",
    "    def find_possibles(self,lst):\n",
    "        flag = False\n",
    "        if not self.childs:\n",
    "            for key in self.occr.keys():\n",
    "                if self.occr[key] != 0:\n",
    "                    flag = True\n",
    "            if not flag:\n",
    "                if not any([set(self.words)==set(w) for w in lst]):\n",
    "                    lst.append(self.words)\n",
    "                \n",
    "        for child in self.childs:  \n",
    "            child.find_possibles(lst)\n",
    "        "
   ]
  },
  {
   "cell_type": "code",
   "execution_count": 8,
   "metadata": {},
   "outputs": [
    {
     "name": "stdout",
     "output_type": "stream",
     "text": [
      "Took 0.06331515312194824 seconds\n"
     ]
    }
   ],
   "source": [
    "import time\n",
    "\n",
    "t = time.time()\n",
    "tree = Node(hw.occr,candidates)\n",
    "tree.build()\n",
    "print(f\"Took {time.time()-t} seconds\")"
   ]
  },
  {
   "cell_type": "code",
   "execution_count": 9,
   "metadata": {},
   "outputs": [
    {
     "data": {
      "text/plain": [
       "[['we', 'hold', 'roll'],\n",
       " ['or', 'well', 'hold'],\n",
       " ['her', 'low', 'doll'],\n",
       " ['world', 'hello'],\n",
       " ['old', 'hell', 'row'],\n",
       " ['low', 'hell', 'rod']]"
      ]
     },
     "execution_count": 9,
     "metadata": {},
     "output_type": "execute_result"
    }
   ],
   "source": [
    "phrases = []\n",
    "tree.find_possibles(phrases)\n",
    "phrases"
   ]
  },
  {
   "cell_type": "code",
   "execution_count": 10,
   "metadata": {},
   "outputs": [],
   "source": [
    "freq = {}\n",
    "for phrase in phrases:\n",
    "    for word in phrase:\n",
    "        freq[word] = 0\n",
    "\n"
   ]
  },
  {
   "cell_type": "code",
   "execution_count": 31,
   "metadata": {},
   "outputs": [],
   "source": [
    "import pandas as pd\n",
    "wfreqdf = pd.read_excel('wordFrequency.xls',sheet_name=None)['1 lemmas']\n"
   ]
  },
  {
   "cell_type": "code",
   "execution_count": 34,
   "metadata": {},
   "outputs": [
    {
     "data": {
      "text/html": [
       "<div>\n",
       "<style scoped>\n",
       "    .dataframe tbody tr th:only-of-type {\n",
       "        vertical-align: middle;\n",
       "    }\n",
       "\n",
       "    .dataframe tbody tr th {\n",
       "        vertical-align: top;\n",
       "    }\n",
       "\n",
       "    .dataframe thead th {\n",
       "        text-align: right;\n",
       "    }\n",
       "</style>\n",
       "<table border=\"1\" class=\"dataframe\">\n",
       "  <thead>\n",
       "    <tr style=\"text-align: right;\">\n",
       "      <th></th>\n",
       "      <th>rank</th>\n",
       "      <th>lemma</th>\n",
       "      <th>PoS</th>\n",
       "      <th>freq</th>\n",
       "      <th>perMil</th>\n",
       "      <th>%caps</th>\n",
       "      <th>%allC</th>\n",
       "      <th>range</th>\n",
       "      <th>disp</th>\n",
       "      <th>blog</th>\n",
       "      <th>...</th>\n",
       "      <th>news</th>\n",
       "      <th>acad</th>\n",
       "      <th>blogPM</th>\n",
       "      <th>webPM</th>\n",
       "      <th>TVMPM</th>\n",
       "      <th>spokPM</th>\n",
       "      <th>ficPM</th>\n",
       "      <th>magPM</th>\n",
       "      <th>newsPM</th>\n",
       "      <th>acadPM</th>\n",
       "    </tr>\n",
       "  </thead>\n",
       "  <tbody>\n",
       "    <tr>\n",
       "      <th>133</th>\n",
       "      <td>134</td>\n",
       "      <td>world</td>\n",
       "      <td>n</td>\n",
       "      <td>732511</td>\n",
       "      <td>737.66</td>\n",
       "      <td>0.18</td>\n",
       "      <td>0.01</td>\n",
       "      <td>208857</td>\n",
       "      <td>0.98</td>\n",
       "      <td>108450</td>\n",
       "      <td>...</td>\n",
       "      <td>88531</td>\n",
       "      <td>95286</td>\n",
       "      <td>872.81</td>\n",
       "      <td>914.11</td>\n",
       "      <td>502.47</td>\n",
       "      <td>719.27</td>\n",
       "      <td>509.94</td>\n",
       "      <td>850.69</td>\n",
       "      <td>727.2</td>\n",
       "      <td>795.44</td>\n",
       "    </tr>\n",
       "  </tbody>\n",
       "</table>\n",
       "<p>1 rows × 25 columns</p>\n",
       "</div>"
      ],
      "text/plain": [
       "     rank  lemma PoS    freq  perMil  %caps  %allC   range  disp    blog  ...  \\\n",
       "133   134  world   n  732511  737.66   0.18   0.01  208857  0.98  108450  ...   \n",
       "\n",
       "      news   acad  blogPM   webPM   TVMPM  spokPM   ficPM   magPM  newsPM  \\\n",
       "133  88531  95286  872.81  914.11  502.47  719.27  509.94  850.69   727.2   \n",
       "\n",
       "     acadPM  \n",
       "133  795.44  \n",
       "\n",
       "[1 rows x 25 columns]"
      ]
     },
     "execution_count": 34,
     "metadata": {},
     "output_type": "execute_result"
    }
   ],
   "source": [
    "wfreqdf.loc[wfreqdf['lemma']=='world']"
   ]
  },
  {
   "cell_type": "markdown",
   "metadata": {},
   "source": [
    "For those of you that dont know it, there is a power law, i.e. Zipf Law, that defines that the decreasing orderly of frequency of words follows a power relationship with its rank. That is \n",
    "\n",
    "$$P_n \\approx \\frac{1}{n^a}$$\n",
    "\n",
    "this can be seen in the plot below"
   ]
  },
  {
   "cell_type": "code",
   "execution_count": 51,
   "metadata": {},
   "outputs": [
    {
     "data": {
      "text/plain": [
       "<matplotlib.legend.Legend at 0x7ff7a277afa0>"
      ]
     },
     "execution_count": 51,
     "metadata": {},
     "output_type": "execute_result"
    },
    {
     "data": {
      "image/png": "[encoded data removed]",
      "text/plain": [
       "<Figure size 720x720 with 1 Axes>"
      ]
     },
     "metadata": {
      "needs_background": "light"
     },
     "output_type": "display_data"
    }
   ],
   "source": [
    "import matplotlib.pyplot as plt\n",
    "%matplotlib inline \n",
    "\n",
    "fig=plt.figure(figsize=(10,10))\n",
    "plt.grid()\n",
    "plt.xlabel(\"rank\")\n",
    "plt.ylabel(\"Word Frequency \")\n",
    "plt.xscale('log')\n",
    "plt.yscale('log')\n",
    "plt.plot(wfreqdf['rank'],wfreqdf['freq'],color='orange',linewidth=2,label='English')\n",
    "plt.legend(loc=1)\n"
   ]
  },
  {
   "cell_type": "markdown",
   "metadata": {},
   "source": [
    "Now it would be nice to have a way to imply a ranking from a phrase with different words. This way of defining a ranking of phrases has to correctly represent the commonality of phrases from singled out word frequency. The real way of doing this is predicting the next word of a phrase from the past history. In the phrases we reported, there are just unordered list. So our approximation to rank the words will be the geometric mean of the normalized frequencies. \n"
   ]
  },
  {
   "cell_type": "code",
   "execution_count": 67,
   "metadata": {},
   "outputs": [
    {
     "data": {
      "text/html": [
       "<div>\n",
       "<style scoped>\n",
       "    .dataframe tbody tr th:only-of-type {\n",
       "        vertical-align: middle;\n",
       "    }\n",
       "\n",
       "    .dataframe tbody tr th {\n",
       "        vertical-align: top;\n",
       "    }\n",
       "\n",
       "    .dataframe thead th {\n",
       "        text-align: right;\n",
       "    }\n",
       "</style>\n",
       "<table border=\"1\" class=\"dataframe\">\n",
       "  <thead>\n",
       "    <tr style=\"text-align: right;\">\n",
       "      <th></th>\n",
       "      <th>rank</th>\n",
       "      <th>lemma</th>\n",
       "      <th>PoS</th>\n",
       "      <th>freq</th>\n",
       "      <th>perMil</th>\n",
       "      <th>%caps</th>\n",
       "      <th>%allC</th>\n",
       "      <th>range</th>\n",
       "      <th>disp</th>\n",
       "      <th>blog</th>\n",
       "      <th>...</th>\n",
       "      <th>news</th>\n",
       "      <th>acad</th>\n",
       "      <th>blogPM</th>\n",
       "      <th>webPM</th>\n",
       "      <th>TVMPM</th>\n",
       "      <th>spokPM</th>\n",
       "      <th>ficPM</th>\n",
       "      <th>magPM</th>\n",
       "      <th>newsPM</th>\n",
       "      <th>acadPM</th>\n",
       "    </tr>\n",
       "  </thead>\n",
       "  <tbody>\n",
       "    <tr>\n",
       "      <th>0</th>\n",
       "      <td>1</td>\n",
       "      <td>the</td>\n",
       "      <td>a</td>\n",
       "      <td>0.060272</td>\n",
       "      <td>50385.16</td>\n",
       "      <td>0.11</td>\n",
       "      <td>0.00</td>\n",
       "      <td>482995</td>\n",
       "      <td>0.98</td>\n",
       "      <td>6266654</td>\n",
       "      <td>...</td>\n",
       "      <td>6579270</td>\n",
       "      <td>7440931</td>\n",
       "      <td>50434.35</td>\n",
       "      <td>55169.32</td>\n",
       "      <td>29524.14</td>\n",
       "      <td>45672.67</td>\n",
       "      <td>53310.74</td>\n",
       "      <td>53941.86</td>\n",
       "      <td>54042.73</td>\n",
       "      <td>62116.23</td>\n",
       "    </tr>\n",
       "    <tr>\n",
       "      <th>1</th>\n",
       "      <td>2</td>\n",
       "      <td>be</td>\n",
       "      <td>v</td>\n",
       "      <td>0.039024</td>\n",
       "      <td>32622.71</td>\n",
       "      <td>0.03</td>\n",
       "      <td>0.01</td>\n",
       "      <td>481177</td>\n",
       "      <td>0.99</td>\n",
       "      <td>5594001</td>\n",
       "      <td>...</td>\n",
       "      <td>4102481</td>\n",
       "      <td>3689062</td>\n",
       "      <td>45020.81</td>\n",
       "      <td>41409.63</td>\n",
       "      <td>62695.87</td>\n",
       "      <td>55701.50</td>\n",
       "      <td>37289.40</td>\n",
       "      <td>33259.44</td>\n",
       "      <td>33698.16</td>\n",
       "      <td>30795.96</td>\n",
       "    </tr>\n",
       "    <tr>\n",
       "      <th>2</th>\n",
       "      <td>3</td>\n",
       "      <td>and</td>\n",
       "      <td>c</td>\n",
       "      <td>0.029848</td>\n",
       "      <td>24952.20</td>\n",
       "      <td>0.09</td>\n",
       "      <td>0.00</td>\n",
       "      <td>478670</td>\n",
       "      <td>0.98</td>\n",
       "      <td>3205178</td>\n",
       "      <td>...</td>\n",
       "      <td>2993061</td>\n",
       "      <td>3627686</td>\n",
       "      <td>25795.44</td>\n",
       "      <td>26849.01</td>\n",
       "      <td>14249.23</td>\n",
       "      <td>26275.16</td>\n",
       "      <td>25860.15</td>\n",
       "      <td>26177.63</td>\n",
       "      <td>24585.28</td>\n",
       "      <td>30283.60</td>\n",
       "    </tr>\n",
       "    <tr>\n",
       "      <th>3</th>\n",
       "      <td>4</td>\n",
       "      <td>a</td>\n",
       "      <td>a</td>\n",
       "      <td>0.029183</td>\n",
       "      <td>24395.69</td>\n",
       "      <td>0.04</td>\n",
       "      <td>0.04</td>\n",
       "      <td>478204</td>\n",
       "      <td>0.99</td>\n",
       "      <td>3098338</td>\n",
       "      <td>...</td>\n",
       "      <td>3299770</td>\n",
       "      <td>2602697</td>\n",
       "      <td>24935.58</td>\n",
       "      <td>24747.22</td>\n",
       "      <td>20690.47</td>\n",
       "      <td>23374.72</td>\n",
       "      <td>25107.33</td>\n",
       "      <td>27541.93</td>\n",
       "      <td>27104.62</td>\n",
       "      <td>21727.08</td>\n",
       "    </tr>\n",
       "    <tr>\n",
       "      <th>4</th>\n",
       "      <td>5</td>\n",
       "      <td>of</td>\n",
       "      <td>i</td>\n",
       "      <td>0.027898</td>\n",
       "      <td>23321.89</td>\n",
       "      <td>0.01</td>\n",
       "      <td>0.00</td>\n",
       "      <td>477933</td>\n",
       "      <td>0.97</td>\n",
       "      <td>2897295</td>\n",
       "      <td>...</td>\n",
       "      <td>2867922</td>\n",
       "      <td>4500485</td>\n",
       "      <td>23317.58</td>\n",
       "      <td>26588.36</td>\n",
       "      <td>10918.77</td>\n",
       "      <td>20157.43</td>\n",
       "      <td>19270.82</td>\n",
       "      <td>25796.39</td>\n",
       "      <td>23557.38</td>\n",
       "      <td>37569.65</td>\n",
       "    </tr>\n",
       "    <tr>\n",
       "      <th>...</th>\n",
       "      <td>...</td>\n",
       "      <td>...</td>\n",
       "      <td>...</td>\n",
       "      <td>...</td>\n",
       "      <td>...</td>\n",
       "      <td>...</td>\n",
       "      <td>...</td>\n",
       "      <td>...</td>\n",
       "      <td>...</td>\n",
       "      <td>...</td>\n",
       "      <td>...</td>\n",
       "      <td>...</td>\n",
       "      <td>...</td>\n",
       "      <td>...</td>\n",
       "      <td>...</td>\n",
       "      <td>...</td>\n",
       "      <td>...</td>\n",
       "      <td>...</td>\n",
       "      <td>...</td>\n",
       "      <td>...</td>\n",
       "      <td>...</td>\n",
       "    </tr>\n",
       "    <tr>\n",
       "      <th>5045</th>\n",
       "      <td>5046</td>\n",
       "      <td>keyboard</td>\n",
       "      <td>n</td>\n",
       "      <td>0.000014</td>\n",
       "      <td>11.97</td>\n",
       "      <td>0.05</td>\n",
       "      <td>0.00</td>\n",
       "      <td>5580</td>\n",
       "      <td>0.92</td>\n",
       "      <td>2464</td>\n",
       "      <td>...</td>\n",
       "      <td>805</td>\n",
       "      <td>1380</td>\n",
       "      <td>19.83</td>\n",
       "      <td>19.25</td>\n",
       "      <td>2.45</td>\n",
       "      <td>3.74</td>\n",
       "      <td>10.75</td>\n",
       "      <td>21.43</td>\n",
       "      <td>6.61</td>\n",
       "      <td>11.52</td>\n",
       "    </tr>\n",
       "    <tr>\n",
       "      <th>5046</th>\n",
       "      <td>5047</td>\n",
       "      <td>persist</td>\n",
       "      <td>v</td>\n",
       "      <td>0.000014</td>\n",
       "      <td>11.96</td>\n",
       "      <td>0.01</td>\n",
       "      <td>0.00</td>\n",
       "      <td>9554</td>\n",
       "      <td>0.94</td>\n",
       "      <td>1181</td>\n",
       "      <td>...</td>\n",
       "      <td>1198</td>\n",
       "      <td>3860</td>\n",
       "      <td>9.50</td>\n",
       "      <td>12.60</td>\n",
       "      <td>1.33</td>\n",
       "      <td>4.29</td>\n",
       "      <td>11.00</td>\n",
       "      <td>15.92</td>\n",
       "      <td>9.84</td>\n",
       "      <td>32.22</td>\n",
       "    </tr>\n",
       "    <tr>\n",
       "      <th>5047</th>\n",
       "      <td>5048</td>\n",
       "      <td>wheat</td>\n",
       "      <td>n</td>\n",
       "      <td>0.000014</td>\n",
       "      <td>11.96</td>\n",
       "      <td>0.15</td>\n",
       "      <td>0.01</td>\n",
       "      <td>5843</td>\n",
       "      <td>0.94</td>\n",
       "      <td>1287</td>\n",
       "      <td>...</td>\n",
       "      <td>1952</td>\n",
       "      <td>1755</td>\n",
       "      <td>10.36</td>\n",
       "      <td>11.27</td>\n",
       "      <td>4.75</td>\n",
       "      <td>5.07</td>\n",
       "      <td>10.94</td>\n",
       "      <td>22.93</td>\n",
       "      <td>16.03</td>\n",
       "      <td>14.65</td>\n",
       "    </tr>\n",
       "    <tr>\n",
       "      <th>5048</th>\n",
       "      <td>5049</td>\n",
       "      <td>predator</td>\n",
       "      <td>n</td>\n",
       "      <td>0.000014</td>\n",
       "      <td>11.96</td>\n",
       "      <td>0.14</td>\n",
       "      <td>0.01</td>\n",
       "      <td>6042</td>\n",
       "      <td>0.94</td>\n",
       "      <td>1166</td>\n",
       "      <td>...</td>\n",
       "      <td>1242</td>\n",
       "      <td>1760</td>\n",
       "      <td>9.38</td>\n",
       "      <td>8.85</td>\n",
       "      <td>8.13</td>\n",
       "      <td>10.54</td>\n",
       "      <td>8.40</td>\n",
       "      <td>25.42</td>\n",
       "      <td>10.20</td>\n",
       "      <td>14.69</td>\n",
       "    </tr>\n",
       "    <tr>\n",
       "      <th>5049</th>\n",
       "      <td>5050</td>\n",
       "      <td>bizarre</td>\n",
       "      <td>j</td>\n",
       "      <td>0.000014</td>\n",
       "      <td>11.96</td>\n",
       "      <td>0.04</td>\n",
       "      <td>0.01</td>\n",
       "      <td>9737</td>\n",
       "      <td>0.97</td>\n",
       "      <td>1794</td>\n",
       "      <td>...</td>\n",
       "      <td>1253</td>\n",
       "      <td>640</td>\n",
       "      <td>14.44</td>\n",
       "      <td>12.74</td>\n",
       "      <td>8.46</td>\n",
       "      <td>18.52</td>\n",
       "      <td>11.28</td>\n",
       "      <td>14.24</td>\n",
       "      <td>10.29</td>\n",
       "      <td>5.34</td>\n",
       "    </tr>\n",
       "  </tbody>\n",
       "</table>\n",
       "<p>5050 rows × 25 columns</p>\n",
       "</div>"
      ],
      "text/plain": [
       "      rank     lemma PoS      freq    perMil  %caps  %allC   range  disp  \\\n",
       "0        1       the   a  0.060272  50385.16   0.11   0.00  482995  0.98   \n",
       "1        2        be   v  0.039024  32622.71   0.03   0.01  481177  0.99   \n",
       "2        3       and   c  0.029848  24952.20   0.09   0.00  478670  0.98   \n",
       "3        4         a   a  0.029183  24395.69   0.04   0.04  478204  0.99   \n",
       "4        5        of   i  0.027898  23321.89   0.01   0.00  477933  0.97   \n",
       "...    ...       ...  ..       ...       ...    ...    ...     ...   ...   \n",
       "5045  5046  keyboard   n  0.000014     11.97   0.05   0.00    5580  0.92   \n",
       "5046  5047   persist   v  0.000014     11.96   0.01   0.00    9554  0.94   \n",
       "5047  5048     wheat   n  0.000014     11.96   0.15   0.01    5843  0.94   \n",
       "5048  5049  predator   n  0.000014     11.96   0.14   0.01    6042  0.94   \n",
       "5049  5050   bizarre   j  0.000014     11.96   0.04   0.01    9737  0.97   \n",
       "\n",
       "         blog  ...     news     acad    blogPM     webPM     TVMPM    spokPM  \\\n",
       "0     6266654  ...  6579270  7440931  50434.35  55169.32  29524.14  45672.67   \n",
       "1     5594001  ...  4102481  3689062  45020.81  41409.63  62695.87  55701.50   \n",
       "2     3205178  ...  2993061  3627686  25795.44  26849.01  14249.23  26275.16   \n",
       "3     3098338  ...  3299770  2602697  24935.58  24747.22  20690.47  23374.72   \n",
       "4     2897295  ...  2867922  4500485  23317.58  26588.36  10918.77  20157.43   \n",
       "...       ...  ...      ...      ...       ...       ...       ...       ...   \n",
       "5045     2464  ...      805     1380     19.83     19.25      2.45      3.74   \n",
       "5046     1181  ...     1198     3860      9.50     12.60      1.33      4.29   \n",
       "5047     1287  ...     1952     1755     10.36     11.27      4.75      5.07   \n",
       "5048     1166  ...     1242     1760      9.38      8.85      8.13     10.54   \n",
       "5049     1794  ...     1253      640     14.44     12.74      8.46     18.52   \n",
       "\n",
       "         ficPM     magPM    newsPM    acadPM  \n",
       "0     53310.74  53941.86  54042.73  62116.23  \n",
       "1     37289.40  33259.44  33698.16  30795.96  \n",
       "2     25860.15  26177.63  24585.28  30283.60  \n",
       "3     25107.33  27541.93  27104.62  21727.08  \n",
       "4     19270.82  25796.39  23557.38  37569.65  \n",
       "...        ...       ...       ...       ...  \n",
       "5045     10.75     21.43      6.61     11.52  \n",
       "5046     11.00     15.92      9.84     32.22  \n",
       "5047     10.94     22.93     16.03     14.65  \n",
       "5048      8.40     25.42     10.20     14.69  \n",
       "5049     11.28     14.24     10.29      5.34  \n",
       "\n",
       "[5050 rows x 25 columns]"
      ]
     },
     "execution_count": 67,
     "metadata": {},
     "output_type": "execute_result"
    }
   ],
   "source": [
    "accum = sum(wfreqdf['freq'])\n",
    "wfreqdf['freq'] = wfreqdf['freq'].div(accum)"
   ]
  },
  {
   "cell_type": "code",
   "execution_count": 68,
   "metadata": {},
   "outputs": [
    {
     "data": {
      "text/plain": [
       "<matplotlib.legend.Legend at 0x7ff7abd18610>"
      ]
     },
     "execution_count": 68,
     "metadata": {},
     "output_type": "execute_result"
    },
    {
     "data": {
      "image/png": "[encoded data removed]",
      "text/plain": [
       "<Figure size 720x720 with 1 Axes>"
      ]
     },
     "metadata": {
      "needs_background": "light"
     },
     "output_type": "display_data"
    }
   ],
   "source": [
    "fig=plt.figure(figsize=(10,10))\n",
    "plt.grid()\n",
    "plt.xlabel(\"rank\")\n",
    "plt.ylabel(\"Word Frequency \")\n",
    "plt.xscale('log')\n",
    "plt.yscale('log')\n",
    "plt.plot(wfreqdf['rank'],wfreqdf['freq'],color='k',linewidth=2,label='English')\n",
    "\n",
    "for phrase in phrases:\n",
    "    tmp = wfreqdf.loc[wfreqdf['lemma'].isin(phrase)]\n",
    "    plt.scatter(tmp['rank'],tmp['freq'],s=100,label=\" \".join(phrase))\n",
    "\n",
    "plt.legend(loc=1)"
   ]
  },
  {
   "cell_type": "code",
   "execution_count": 87,
   "metadata": {},
   "outputs": [],
   "source": [
    "freqs = [[wfreqdf.loc[wfreqdf['lemma'] == w]['freq'].values[0] for w in phrase] for phrase in phrases]\n",
    "\n",
    "import math\n",
    "geomean = [ (math.prod(fr))**(1/len(fr)) for fr in freqs]\n",
    "arithmean = [ sum(fr)/len(fr) for fr in freqs]"
   ]
  },
  {
   "cell_type": "code",
   "execution_count": 90,
   "metadata": {},
   "outputs": [
    {
     "data": {
      "text/plain": [
       "[['we', 'hold', 'roll'],\n",
       " ['or', 'well', 'hold'],\n",
       " ['her', 'low', 'doll'],\n",
       " ['world', 'hello'],\n",
       " ['old', 'hell', 'row'],\n",
       " ['low', 'hell', 'rod']]"
      ]
     },
     "execution_count": 90,
     "metadata": {},
     "output_type": "execute_result"
    }
   ],
   "source": [
    "phrases"
   ]
  },
  {
   "cell_type": "code",
   "execution_count": 88,
   "metadata": {},
   "outputs": [
    {
     "data": {
      "text/plain": [
       "[0.0006435681075765075,\n",
       " 0.0014329247805069665,\n",
       " 0.00023736641080875887,\n",
       " 0.00030342595016252366,\n",
       " 0.00016970705024644295,\n",
       " 9.838507785535056e-05]"
      ]
     },
     "execution_count": 88,
     "metadata": {},
     "output_type": "execute_result"
    }
   ],
   "source": [
    "geomean"
   ]
  },
  {
   "cell_type": "code",
   "execution_count": 89,
   "metadata": {},
   "outputs": [
    {
     "data": {
      "text/plain": [
       "[0.002275001537582372,\n",
       " 0.0020170517355657387,\n",
       " 0.0008773398789851814,\n",
       " 0.0004933689145925063,\n",
       " 0.00028442141965294063,\n",
       " 0.00015491548012624705]"
      ]
     },
     "execution_count": 89,
     "metadata": {},
     "output_type": "execute_result"
    }
   ],
   "source": [
    "arithmean"
   ]
  },
  {
   "cell_type": "markdown",
   "metadata": {},
   "source": [
    "There is no sensible way of comparing n-grams with different n, since the probability of a long phrase occurring is less than a short one, this is even more evident when the shorter phrase is a subset of the longer one. Therefore, we must find another path, maybe not that detourly.\n",
    "\n",
    "We know for a fact that \"hello world\" is a phrase with two words. We can filter out all the phrases that doesnt match this condition. The answer is just one. "
   ]
  },
  {
   "cell_type": "code",
   "execution_count": 100,
   "metadata": {},
   "outputs": [
    {
     "name": "stdout",
     "output_type": "stream",
     "text": [
      "['world', 'hello']\n"
     ]
    }
   ],
   "source": [
    "filtered = filter(lambda x: len(x) == 2, phrases)\n",
    "\n",
    "for item in filtered:\n",
    "    print(item)"
   ]
  },
  {
   "cell_type": "markdown",
   "metadata": {},
   "source": [
    "Now we must define the order of the words in the phrase. The direct way of evaluating this is calculating from 2-gram (bigram) datasets their frequency of ocurrence. This would be denoted as \n",
    "\n",
    "$$P(\"world \\ hello\") = \\frac{C(\"world \\ hello\")}{amount \\ of \\ bigrams}$$\n",
    "in a same manner\n",
    "\n",
    "$$P(\"hello \\ world\") = \\frac{C(\"hello \\ world\")}{amount \\ of \\ bigrams} $$\n",
    "\n",
    "In order to achieve this I will use the N-gram viewer from google, the url down below is obviously hardcoded."
   ]
  },
  {
   "cell_type": "code",
   "execution_count": 126,
   "metadata": {},
   "outputs": [],
   "source": [
    "import requests\n",
    "\n",
    "url = 'https://books.google.com/ngrams/json?content=hello+world%2Cworld+hello&year_start=1800&year_end=2019&corpus=26&smoothing=3&case_insensitive=false'\n",
    "req = requests.get(url)"
   ]
  },
  {
   "cell_type": "code",
   "execution_count": 133,
   "metadata": {},
   "outputs": [],
   "source": [
    "json_lst = req.json()"
   ]
  },
  {
   "cell_type": "code",
   "execution_count": 135,
   "metadata": {},
   "outputs": [],
   "source": [
    "bigrams = [ j for j in json_lst if \"(All)\" in j['ngram']]"
   ]
  },
  {
   "cell_type": "code",
   "execution_count": 145,
   "metadata": {},
   "outputs": [
    {
     "data": {
      "text/plain": [
       "<matplotlib.legend.Legend at 0x7ff7abbd2bb0>"
      ]
     },
     "execution_count": 145,
     "metadata": {},
     "output_type": "execute_result"
    },
    {
     "data": {
      "image/png": "[encoded data removed]",
      "text/plain": [
       "<Figure size 720x720 with 1 Axes>"
      ]
     },
     "metadata": {
      "needs_background": "light"
     },
     "output_type": "display_data"
    }
   ],
   "source": [
    "years = [1800+i for i in range(len(bigrams[0]['timeseries']))]\n",
    "\n",
    "plt.figure(figsize=(10,10))\n",
    "plt.grid()\n",
    "plt.xlabel(\"Years\")\n",
    "plt.ylabel(\"frequency\")\n",
    "for bi in bigrams:\n",
    "    plt.plot(years,bi['timeseries'],label = bi['ngram'].replace(\"(All)\",\"\"))\n",
    "plt.legend(loc=2)"
   ]
  },
  {
   "cell_type": "markdown",
   "metadata": {},
   "source": [
    "Therefore we will print out the most common phrase in terms of the year, for that we define a simple function."
   ]
  },
  {
   "cell_type": "code",
   "execution_count": 154,
   "metadata": {},
   "outputs": [],
   "source": [
    "def find_max_year(year,data,offset=1800):\n",
    "    tmp = [(d['timeseries'][year-offset],d['ngram']) for d in data]\n",
    "    fmax = 0\n",
    "    idx = 0\n",
    "    for i in range(len(tmp)):\n",
    "        if tmp[i][0] > fmax:\n",
    "            fmax=tmp[i][0]\n",
    "            idx = i\n",
    "    return tmp[idx][1].replace(\"(All)\",\"\")\n",
    "        "
   ]
  },
  {
   "cell_type": "code",
   "execution_count": 157,
   "metadata": {},
   "outputs": [
    {
     "data": {
      "text/plain": [
       "'hello world '"
      ]
     },
     "execution_count": 157,
     "metadata": {},
     "output_type": "execute_result"
    }
   ],
   "source": [
    "hw = find_max_year(2019,bigrams)\n",
    "hw"
   ]
  }
 ],
 "metadata": {
  "kernelspec": {
   "display_name": "Python 3",
   "language": "python",
   "name": "python3"
  },
  "language_info": {
   "codemirror_mode": {
    "name": "ipython",
    "version": 3
   },
   "file_extension": ".py",
   "mimetype": "text/x-python",
   "name": "python",
   "nbconvert_exporter": "python",
   "pygments_lexer": "ipython3",
   "version": "3.8.5"
  }
 },
 "nbformat": 4,
 "nbformat_minor": 4
}
